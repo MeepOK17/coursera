#Data Science Tools and Ecosystem
#Introduction

#Objectives: SQL, Python, R

#Type Markdown and LaTeX: 𝛼2
#Popular Data scientists languages are: -Python -R -SQL -Java -Julia

#Couple of Data Scientists libraries: -TensorFlow -NumPy -SciPy -Pandas -Matplotlib

#Data Science Tools
#ApacheSpark, TensorFlow, Matplotlib, RapidMiner, Ggplot

#Below are a few examples of evaluating arithmetic expressions in Python
#3
#This expression raises number to a power and then adds it\
#(2*3)+3
#9
#/60
#converting 150 minutes to ours dividing by 60
#150/60
#2.5
#Author
#Gordeev ALexander
​
