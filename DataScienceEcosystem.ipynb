{
 "cells": [
  {
   "cell_type": "markdown",
   "id": "07c25ddb",
   "metadata": {},
   "source": [
    "# Data Science Tools and Ecosystem"
   ]
  },
  {
   "cell_type": "markdown",
   "id": "4c1a3c1e",
   "metadata": {},
   "source": [
    "Introduction"
   ]
  },
  {
   "cell_type": "markdown",
   "id": "d288fc80",
   "metadata": {},
   "source": [
    "Objectives:\n",
    "SQL, Python, R\n"
   ]
  },
  {
   "cell_type": "markdown",
   "id": "089f45e2",
   "metadata": {},
   "source": []
  },
  {
   "cell_type": "markdown",
   "id": "1a3f2d81",
   "metadata": {},
   "source": [
    "Popular Data scientists languages are: \n",
    "-Python\n",
    "-R\n",
    "-SQL\n",
    "-Java\n",
    "-Julia"
   ]
  },
  {
   "cell_type": "markdown",
   "id": "08e2cf10",
   "metadata": {},
   "source": [
    "Couple of Data Scientists libraries: \n",
    "-TensorFlow\n",
    "-NumPy\n",
    "-SciPy\n",
    "-Pandas\n",
    "-Matplotlib"
   ]
  },
  {
   "cell_type": "markdown",
   "id": "38d206d4",
   "metadata": {},
   "source": [
    "# Data Science Tools"
   ]
  },
  {
   "cell_type": "markdown",
   "id": "a9e0557f",
   "metadata": {},
   "source": [
    "ApacheSpark, TensorFlow, Matplotlib, RapidMiner, Ggplot"
   ]
  },
  {
   "cell_type": "markdown",
   "id": "0cae8fcf",
   "metadata": {},
   "source": [
    "# Below are a few examples of evaluating arithmetic expressions in Python"
   ]
  },
  {
   "cell_type": "code",
   "execution_count": 1,
   "id": "0165e5c7",
   "metadata": {},
   "outputs": [
    {
     "data": {
      "text/plain": [
       "9"
      ]
     },
     "execution_count": 1,
     "metadata": {},
     "output_type": "execute_result"
    }
   ],
   "source": [
    "#This expression raises number to a power and then adds it\\\n",
    "(2*3)+3"
   ]
  },
  {
   "cell_type": "code",
   "execution_count": 2,
   "id": "050bfbb8",
   "metadata": {},
   "outputs": [
    {
     "data": {
      "text/plain": [
       "2.5"
      ]
     },
     "execution_count": 2,
     "metadata": {},
     "output_type": "execute_result"
    }
   ],
   "source": [
    "#converting 150 minutes to ours dividing by 60\n",
    "150/60"
   ]
  },
  {
   "cell_type": "markdown",
   "id": "39cbbbaa",
   "metadata": {},
   "source": [
    "Author"
   ]
  },
  {
   "cell_type": "markdown",
   "id": "d10ced15",
   "metadata": {},
   "source": [
    "# Gordeev ALexander"
   ]
  },
  {
   "cell_type": "code",
   "execution_count": null,
   "id": "0e9d9492",
   "metadata": {},
   "outputs": [],
   "source": []
  }
 ],
 "metadata": {
  "kernelspec": {
   "display_name": "Python 3 (ipykernel)",
   "language": "python",
   "name": "python3"
  },
  "language_info": {
   "codemirror_mode": {
    "name": "ipython",
    "version": 3
   },
   "file_extension": ".py",
   "mimetype": "text/x-python",
   "name": "python",
   "nbconvert_exporter": "python",
   "pygments_lexer": "ipython3",
   "version": "3.11.4"
  }
 },
 "nbformat": 4,
 "nbformat_minor": 5
}
